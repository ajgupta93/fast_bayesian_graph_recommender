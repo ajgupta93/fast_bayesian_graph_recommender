{
 "cells": [
  {
   "cell_type": "code",
   "execution_count": 1,
   "metadata": {
    "collapsed": true
   },
   "outputs": [],
   "source": [
    "from scipy.stats import beta\n",
    "import operator\n",
    "import numpy as np\n",
    "from scipy.special import betaln"
   ]
  },
  {
   "cell_type": "code",
   "execution_count": 2,
   "metadata": {},
   "outputs": [],
   "source": [
    "def load_1_m():\n",
    "    ratings = open('../ml-1m/ratings.dat', 'r').read().split('\\n')\n",
    "    user_item_map = {}\n",
    "    for r in ratings:\n",
    "        attrs = r.split('::')\n",
    "        if len(attrs) < 4:\n",
    "            continue\n",
    "        user = int(attrs[0])\n",
    "        item = int(attrs[1])\n",
    "        rating = int(attrs[2])\n",
    "        if user in user_item_map:\n",
    "            user_item_map[user][item] = rating\n",
    "        else:\n",
    "            user_item_map[user] = {}\n",
    "            user_item_map[user][item] = rating\n",
    "    for user in user_item_map:\n",
    "        sum = 0\n",
    "        for item in user_item_map[user]:\n",
    "            sum += user_item_map[user][item]\n",
    "        avg_rating_user = sum * 1.0 / len(user_item_map[user])\n",
    "        for item in user_item_map[user]:\n",
    "            if user_item_map[user][item] >= avg_rating_user:\n",
    "                user_item_map[user][item] = 1\n",
    "            else:\n",
    "                user_item_map[user][item] = 0\n",
    "    for user in user_item_map:\n",
    "        if len(user_item_map[user]) < 10:\n",
    "            del user_item_map[user]\n",
    "    return user_item_map"
   ]
  },
  {
   "cell_type": "code",
   "execution_count": 3,
   "metadata": {},
   "outputs": [],
   "source": [
    "def form_graph(user_item_map):\n",
    "    graph = {}\n",
    "    for user in user_item_map:\n",
    "        if 'u' + str(user) not in graph:\n",
    "            graph['u' + str(user)] = set([])\n",
    "        for item in user_item_map[user]:\n",
    "            if 'i' + str(item) not in graph:\n",
    "                graph['i' + str(item)] = set([])\n",
    "            graph['u' + str(user)].add('i' + str(item))\n",
    "            graph['i' + str(item)].add('u' + str(user))\n",
    "    return graph"
   ]
  },
  {
   "cell_type": "code",
   "execution_count": 4,
   "metadata": {
    "collapsed": true
   },
   "outputs": [],
   "source": [
    "def clean_graph(graph):\n",
    "    while True:\n",
    "        changed = False\n",
    "        delete_nodes = []\n",
    "        for node in graph:\n",
    "            if len(graph[node]) < 10:\n",
    "                changed = True\n",
    "                delete_nodes.append(node)\n",
    "        for node in delete_nodes:\n",
    "            del graph[node]\n",
    "        for node1 in graph:\n",
    "            delete_nodes = []\n",
    "            for node2 in graph[node1]:\n",
    "                if node2 not in graph:\n",
    "                    changed = True\n",
    "                    delete_nodes.append(node2)\n",
    "            for node2 in delete_nodes:\n",
    "                graph[node1].remove(node2)\n",
    "        if not changed:\n",
    "            break\n",
    "    for node in graph:\n",
    "        graph[node] = list(graph[node])\n",
    "    return graph"
   ]
  },
  {
   "cell_type": "code",
   "execution_count": 5,
   "metadata": {
    "collapsed": true
   },
   "outputs": [],
   "source": [
    "def get_num_ratings(user_item_map):\n",
    "    item_rating_map = {}\n",
    "    for user in user_item_map:\n",
    "        for item in user_item_map[user]:\n",
    "            if item not in item_rating_map:\n",
    "                item_rating_map[item] = [1, 1]\n",
    "            if user_item_map[user][item] == 0:\n",
    "                item_rating_map[item][1] += 1\n",
    "            else:\n",
    "                item_rating_map[item][0] += 1\n",
    "    return item_rating_map"
   ]
  },
  {
   "cell_type": "code",
   "execution_count": 6,
   "metadata": {
    "collapsed": true
   },
   "outputs": [],
   "source": [
    "user_item_map = load_1_m()"
   ]
  },
  {
   "cell_type": "code",
   "execution_count": 7,
   "metadata": {
    "collapsed": true
   },
   "outputs": [],
   "source": [
    "item_rating_map = get_num_ratings(user_item_map)"
   ]
  },
  {
   "cell_type": "code",
   "execution_count": 8,
   "metadata": {
    "collapsed": true
   },
   "outputs": [],
   "source": [
    "graph = form_graph(user_item_map)"
   ]
  },
  {
   "cell_type": "code",
   "execution_count": 9,
   "metadata": {
    "collapsed": true
   },
   "outputs": [],
   "source": [
    "graph = clean_graph(graph)"
   ]
  },
  {
   "cell_type": "code",
   "execution_count": 10,
   "metadata": {
    "collapsed": true
   },
   "outputs": [],
   "source": [
    "PIS_map = {}\n",
    "PPS_map = {}\n",
    "PORS_map = {}"
   ]
  },
  {
   "cell_type": "code",
   "execution_count": 11,
   "metadata": {
    "collapsed": true
   },
   "outputs": [],
   "source": [
    "def PIS(item_pair):\n",
    "    item1 = int(item_pair[0][1:])\n",
    "    item2 = int(item_pair[1][1:])\n",
    "    total = 0\n",
    "    for k in xrange(item_rating_map[item1][0]):\n",
    "        total += np.exp(k * np.log(item_rating_map[item1][1]) + \\\n",
    "                        item_rating_map[item2][0] * np.log(item_rating_map[item2][1]) - \\\n",
    "                        (k + item_rating_map[item2][0]) * np.log(item_rating_map[item1][1] + item_rating_map[item2][1]) - \\\n",
    "                        np.log(k + item_rating_map[item2][0]) - \\\n",
    "                        betaln(k + 1, item_rating_map[item2][0]))\n",
    "    return total"
   ]
  },
  {
   "cell_type": "code",
   "execution_count": 12,
   "metadata": {
    "collapsed": true
   },
   "outputs": [],
   "source": [
    "def PPS(item_pair):\n",
    "    item1 = int(item_pair[0][1:])\n",
    "    item2 = int(item_pair[1][1:])\n",
    "    p1 = (item_rating_map[item1][0]) * 1.0 / (item_rating_map[item1][0] + item_rating_map[item1][1])\n",
    "    p2 = (item_rating_map[item2][0]) * 1.0 / (item_rating_map[item2][0] + item_rating_map[item2][1])\n",
    "    return p1 * p2"
   ]
  },
  {
   "cell_type": "code",
   "execution_count": 13,
   "metadata": {
    "collapsed": true
   },
   "outputs": [],
   "source": [
    "def PORS(item_pair):\n",
    "    item1 = int(item_pair[0][1:])\n",
    "    item2 = int(item_pair[1][1:])\n",
    "    o1 = (item_rating_map[item1][0]) * 1.0 / (item_rating_map[item1][1])\n",
    "    o2 = (item_rating_map[item2][0]) * 1.0 / (item_rating_map[item2][1])\n",
    "    return o2 / o1"
   ]
  },
  {
   "cell_type": "code",
   "execution_count": 14,
   "metadata": {},
   "outputs": [],
   "source": [
    "def rank(graph, target_user):\n",
    "    score_map_PPS = {}\n",
    "    score_map_PORS = {}\n",
    "    score_map_PIS = {}\n",
    "    for primary_item in graph[target_user]:\n",
    "        score_map_PPS[primary_item] = 0.0\n",
    "        score_map_PORS[primary_item] = 0.0\n",
    "        score_map_PIS[primary_item] = 0.0\n",
    "        for secondary_user in graph[primary_item]:\n",
    "            if secondary_user == target_user:\n",
    "                continue\n",
    "            for secondary_item in graph[secondary_user]:\n",
    "                if secondary_item in graph[target_user]:\n",
    "                    continue\n",
    "                if (primary_item, secondary_item) in PIS_map:\n",
    "                    score_map_PIS[primary_item] += PIS_map[(primary_item, secondary_item)]\n",
    "                else:\n",
    "                    PIS_map[(primary_item, secondary_item)] = PIS((primary_item, secondary_item))\n",
    "                    score_map_PIS[primary_item] += PIS_map[(primary_item, secondary_item)]\n",
    "                if (primary_item, secondary_item) in PPS_map:\n",
    "                    score_map_PPS[primary_item] += PPS_map[(primary_item, secondary_item)]\n",
    "                else:\n",
    "                    PPS_map[(primary_item, secondary_item)] = PPS((primary_item, secondary_item))\n",
    "                    score_map_PPS[primary_item] += PPS_map[(primary_item, secondary_item)]\n",
    "                if (primary_item, secondary_item) in PORS_map:\n",
    "                    score_map_PORS[primary_item] += PORS_map[(primary_item, secondary_item)]\n",
    "                else:\n",
    "                    PORS_map[(primary_item, secondary_item)] = PORS((primary_item, secondary_item))\n",
    "                    score_map_PORS[primary_item] += PORS_map[(primary_item, secondary_item)]\n",
    "    return score_map_PIS, score_map_PPS, score_map_PORS"
   ]
  },
  {
   "cell_type": "code",
   "execution_count": null,
   "metadata": {},
   "outputs": [],
   "source": []
  },
  {
   "cell_type": "code",
   "execution_count": null,
   "metadata": {
    "collapsed": true
   },
   "outputs": [],
   "source": []
  },
  {
   "cell_type": "code",
   "execution_count": null,
   "metadata": {},
   "outputs": [],
   "source": []
  },
  {
   "cell_type": "code",
   "execution_count": null,
   "metadata": {},
   "outputs": [],
   "source": []
  },
  {
   "cell_type": "code",
   "execution_count": 15,
   "metadata": {},
   "outputs": [],
   "source": [
    "ranking = rank(graph, 'u1')"
   ]
  },
  {
   "cell_type": "code",
   "execution_count": 16,
   "metadata": {},
   "outputs": [],
   "source": [
    "ranking_PIS = ranking[0]\n",
    "ranking_PPS = ranking[1]\n",
    "ranking_PORS = ranking[2]"
   ]
  },
  {
   "cell_type": "code",
   "execution_count": 20,
   "metadata": {},
   "outputs": [
    {
     "name": "stdout",
     "output_type": "stream",
     "text": [
      "[('i1545', 22380.754472319401), ('i938', 26437.537668806315), ('i1836', 29879.566955937455), ('i48', 33801.68039857551), ('i783', 44708.832377621235)]\n",
      "[('i1545', 10568.064315519812), ('i1836', 17773.79575468348), ('i938', 19792.267945228297), ('i48', 23890.925660660796), ('i2340', 28800.92743752021)]\n",
      "[('i1545', 16468.67506574581), ('i745', 31586.12838257131), ('i720', 39623.37200612985), ('i1207', 83710.71764228817), ('i1836', 95238.31769131651)]\n"
     ]
    }
   ],
   "source": [
    "sorted_1 = sorted(ranking_PIS.items(), key=operator.itemgetter(1))\n",
    "sorted_2 = sorted(ranking_PPS.items(), key=operator.itemgetter(1))\n",
    "sorted_3 = sorted(ranking_PORS.items(), key=operator.itemgetter(1))\n",
    "\n",
    "print sorted_1[:5]\n",
    "print sorted_2[:5]\n",
    "print sorted_3[:5]"
   ]
  },
  {
   "cell_type": "code",
   "execution_count": 21,
   "metadata": {},
   "outputs": [
    {
     "name": "stdout",
     "output_type": "stream",
     "text": [
      "{'i595': 256175.53052375047, 'i594': 182497.29664155206, 'i2687': 84601.906019442366, 'i3105': 164996.78701696778, 'i914': 194693.36275612802, 'i48': 33801.68039857551, 'i2355': 306586.88065263059, 'i919': 442822.00917179394, 'i1035': 208684.44546359841, 'i2762': 569327.53994494327, 'i938': 26437.537668806315, 'i2028': 590918.30898730026, 'i661': 69423.894443574114, 'i1193': 422844.34132531757, 'i1097': 430706.74542712723, 'i1270': 490834.29180657631, 'i1197': 559202.32816141541, 'i1721': 205275.77721870903, 'i150': 356519.00173197739, 'i720': 136031.13785423755, 'i2294': 97891.25365521753, 'i608': 578742.32083193038, 'i3186': 55415.7556456315, 'i527': 539914.66617395694, 'i1961': 329627.56738324871, 'i2398': 118793.49328272487, 'i745': 179168.27398347176, 'i2791': 392142.05988478119, 'i2797': 363786.99977048568, 'i1287': 207117.81267752033, 'i1': 486932.15916609764, 'i588': 286324.85858594102, 'i2692': 285015.09224309091, 'i2340': 48832.842814360607, 'i1962': 184628.29280518269, 'i783': 44708.832377621235, 'i1029': 117217.17683792244, 'i1028': 236178.6603747789, 'i1566': 61630.180544028393, 'i2804': 372075.0743111553, 'i1022': 149155.00046507688, 'i3408': 222247.4000434496, 'i1246': 288966.41658578196, 'i2321': 227066.6879723178, 'i2018': 126199.27719547183, 'i1207': 283497.52810530085, 'i1545': 22380.754472319401, 'i1836': 29879.566955937455, 'i260': 667175.85959772638, 'i1907': 114204.47866182249, 'i3114': 363279.73755213624, 'i2918': 425910.75854372449, 'i531': 66721.400726970503}\n"
     ]
    }
   ],
   "source": [
    "print ranking_PIS"
   ]
  },
  {
   "cell_type": "code",
   "execution_count": null,
   "metadata": {
    "collapsed": true
   },
   "outputs": [],
   "source": []
  }
 ],
 "metadata": {
  "kernelspec": {
   "display_name": "Python 2",
   "language": "python",
   "name": "python2"
  },
  "language_info": {
   "codemirror_mode": {
    "name": "ipython",
    "version": 2
   },
   "file_extension": ".py",
   "mimetype": "text/x-python",
   "name": "python",
   "nbconvert_exporter": "python",
   "pygments_lexer": "ipython2",
   "version": "2.7.11"
  }
 },
 "nbformat": 4,
 "nbformat_minor": 2
}
