{
 "cells": [
  {
   "cell_type": "code",
   "execution_count": 122,
   "metadata": {
    "collapsed": true
   },
   "outputs": [],
   "source": [
    "from scipy.stats import beta\n",
    "import operator\n",
    "import numpy as np\n",
    "from scipy.special import betaln"
   ]
  },
  {
   "cell_type": "code",
   "execution_count": 123,
   "metadata": {
    "collapsed": true
   },
   "outputs": [],
   "source": [
    "dataset = 1\n",
    "if dataset==0:\n",
    "    # MovieLens-1M dataset\n",
    "    ratings_file = '../data/ml-1m/ratings.dat'\n",
    "    delimiter = '::'\n",
    "elif dataset==1:\n",
    "    # MovieLens-100k dataset\n",
    "    ratings_file = '../data/ml-100k/u.data'\n",
    "    delimiter = '\\t'"
   ]
  },
  {
   "cell_type": "code",
   "execution_count": 124,
   "metadata": {
    "collapsed": true
   },
   "outputs": [],
   "source": [
    "def load_1_m():\n",
    "    ratings = open(ratings_file, 'r').read().split('\\n')\n",
    "    user_item_map = {}\n",
    "    for r in ratings:\n",
    "        attrs = r.split(delimiter)\n",
    "        if len(attrs) < 4:\n",
    "            continue\n",
    "        user = int(attrs[0])\n",
    "        item = int(attrs[1])\n",
    "        rating = int(attrs[2])\n",
    "        if user in user_item_map:\n",
    "            user_item_map[user][item] = rating\n",
    "        else:\n",
    "            user_item_map[user] = {}\n",
    "            user_item_map[user][item] = rating\n",
    "    for user in user_item_map:\n",
    "        sum = 0\n",
    "        for item in user_item_map[user]:\n",
    "            sum += user_item_map[user][item]\n",
    "        avg_rating_user = sum * 1.0 / len(user_item_map[user])\n",
    "        for item in user_item_map[user]:\n",
    "            if user_item_map[user][item] >= avg_rating_user:\n",
    "                user_item_map[user][item] = 1\n",
    "            else:\n",
    "                user_item_map[user][item] = 0\n",
    "    for user in user_item_map:\n",
    "        if len(user_item_map[user]) < 10:\n",
    "            del user_item_map[user]\n",
    "    return user_item_map"
   ]
  },
  {
   "cell_type": "code",
   "execution_count": 125,
   "metadata": {
    "collapsed": true
   },
   "outputs": [],
   "source": [
    "def form_graph(user_item_map):\n",
    "    graph = {}\n",
    "    for user in user_item_map:\n",
    "        if 'u' + str(user) not in graph:\n",
    "            graph['u' + str(user)] = set([])\n",
    "        for item in user_item_map[user]:\n",
    "            if 'i' + str(item) not in graph:\n",
    "                graph['i' + str(item)] = set([])\n",
    "            graph['u' + str(user)].add('i' + str(item))\n",
    "            graph['i' + str(item)].add('u' + str(user))\n",
    "    return graph"
   ]
  },
  {
   "cell_type": "code",
   "execution_count": 126,
   "metadata": {
    "collapsed": true
   },
   "outputs": [],
   "source": [
    "def clean_graph(graph):\n",
    "    while True:\n",
    "        changed = False\n",
    "        delete_nodes = []\n",
    "        for node in graph:\n",
    "            if len(graph[node]) < 10:\n",
    "                changed = True\n",
    "                delete_nodes.append(node)\n",
    "        for node in delete_nodes:\n",
    "            del graph[node]\n",
    "        for node1 in graph:\n",
    "            delete_nodes = []\n",
    "            for node2 in graph[node1]:\n",
    "                if node2 not in graph:\n",
    "                    changed = True\n",
    "                    delete_nodes.append(node2)\n",
    "            for node2 in delete_nodes:\n",
    "                graph[node1].remove(node2)\n",
    "        if not changed:\n",
    "            break\n",
    "    for node in graph:\n",
    "        graph[node] = list(graph[node])\n",
    "    return graph"
   ]
  },
  {
   "cell_type": "code",
   "execution_count": 127,
   "metadata": {
    "collapsed": true
   },
   "outputs": [],
   "source": [
    "def get_num_ratings(user_item_map):\n",
    "    item_rating_map = {}\n",
    "    for user in user_item_map:\n",
    "        for item in user_item_map[user]:\n",
    "            if item not in item_rating_map:\n",
    "                item_rating_map[item] = [1, 1]\n",
    "            if user_item_map[user][item] == 0:\n",
    "                item_rating_map[item][1] += 1\n",
    "            else:\n",
    "                item_rating_map[item][0] += 1\n",
    "    return item_rating_map"
   ]
  },
  {
   "cell_type": "code",
   "execution_count": 128,
   "metadata": {
    "collapsed": true
   },
   "outputs": [],
   "source": [
    "user_item_map = load_1_m()"
   ]
  },
  {
   "cell_type": "code",
   "execution_count": 129,
   "metadata": {
    "collapsed": true
   },
   "outputs": [],
   "source": [
    "item_rating_map = get_num_ratings(user_item_map)"
   ]
  },
  {
   "cell_type": "code",
   "execution_count": 130,
   "metadata": {
    "collapsed": true
   },
   "outputs": [],
   "source": [
    "graph = form_graph(user_item_map)"
   ]
  },
  {
   "cell_type": "code",
   "execution_count": 131,
   "metadata": {
    "collapsed": true
   },
   "outputs": [],
   "source": [
    "graph = clean_graph(graph)"
   ]
  },
  {
   "cell_type": "code",
   "execution_count": 132,
   "metadata": {
    "collapsed": false
   },
   "outputs": [
    {
     "data": {
      "text/plain": [
       "2095"
      ]
     },
     "execution_count": 132,
     "metadata": {},
     "output_type": "execute_result"
    }
   ],
   "source": [
    "len(graph.keys())"
   ]
  },
  {
   "cell_type": "markdown",
   "metadata": {},
   "source": [
    "## Split MovieLens-100k data so that for each user, 80% is training, 20% is for test\n"
   ]
  },
  {
   "cell_type": "code",
   "execution_count": 135,
   "metadata": {
    "collapsed": false
   },
   "outputs": [
    {
     "name": "stdout",
     "output_type": "stream",
     "text": [
      "['i148', 'i149', 'i142', 'i143', 'i140', 'i141', 'i146', 'i147', 'i144', 'i145', 'i177', 'i233', 'i229', 'i228', 'i270', 'i235', 'i88', 'i89', 'i205', 'i82', 'i83', 'i80', 'i81', 'i86', 'i87', 'i84', 'i85', 'i258', 'i259', 'i77', 'i76', 'i73', 'i72', 'i71', 'i70', 'i220', 'i79', 'i78', 'i252', 'i253', 'i212', 'i207', 'i218', 'i260', 'i266', 'i265', 'i264', 'i269', 'i268', 'i249', 'i64', 'i65']\n"
     ]
    }
   ],
   "source": [
    "first_20percent_of_u1 = [graph['u1'][i] for i in range(int(0.2*len(graph['u1'])))] \n",
    "print first_20percent_of_u1"
   ]
  },
  {
   "cell_type": "code",
   "execution_count": 136,
   "metadata": {
    "collapsed": false
   },
   "outputs": [
    {
     "data": {
      "text/plain": [
       "263"
      ]
     },
     "execution_count": 136,
     "metadata": {},
     "output_type": "execute_result"
    }
   ],
   "source": [
    "len(graph['u1'])"
   ]
  },
  {
   "cell_type": "code",
   "execution_count": 137,
   "metadata": {
    "collapsed": false
   },
   "outputs": [
    {
     "data": {
      "text/plain": [
       "'i143'"
      ]
     },
     "execution_count": 137,
     "metadata": {},
     "output_type": "execute_result"
    }
   ],
   "source": [
    "graph['u1'][3]"
   ]
  },
  {
   "cell_type": "code",
   "execution_count": 163,
   "metadata": {
    "collapsed": false
   },
   "outputs": [],
   "source": [
    "# Input: a graph called g\n",
    "# Output: two test sets, one containing 20% of g's items per user, \n",
    "#         the other containing 80% \n",
    "\n",
    "from collections import defaultdict\n",
    "\n",
    "def create_sets(g): \n",
    "    test_set = defaultdict(list) \n",
    "    training_set = defaultdict(list)\n",
    "    \n",
    "    for key in g:\n",
    "        if key[0]=='u': \n",
    "            # For length of items belonging to that key, split 20% and 80%\n",
    "            first_20 = int(0.2*len(g[key]))\n",
    "            \n",
    "            for i in range(first_20): \n",
    "                test_set[key].append(g[key][i])\n",
    "\n",
    "            for j in range(first_20, len(g[key])):\n",
    "                training_set[key].append(g[key][i])\n",
    "            \n",
    "    for user in test_set.keys():\n",
    "        for item in test_set[user]:\n",
    "            test_set[item].append(user)\n",
    "            \n",
    "    for user in training_set.keys(): \n",
    "        for item in training_set: \n",
    "            training_set[item].append(user)\n",
    "            \n",
    "    return test_set, training_set"
   ]
  },
  {
   "cell_type": "code",
   "execution_count": 164,
   "metadata": {
    "collapsed": false
   },
   "outputs": [],
   "source": [
    "movie_100k_test_set, movie_100k_training_set = create_sets(graph)"
   ]
  },
  {
   "cell_type": "code",
   "execution_count": 165,
   "metadata": {
    "collapsed": false
   },
   "outputs": [
    {
     "name": "stdout",
     "output_type": "stream",
     "text": [
      "True\n"
     ]
    }
   ],
   "source": [
    "print first_20percent_of_u1==movie_100k_test_set['u1']"
   ]
  },
  {
   "cell_type": "code",
   "execution_count": 170,
   "metadata": {
    "collapsed": false
   },
   "outputs": [
    {
     "name": "stdout",
     "output_type": "stream",
     "text": [
      "movie_100k_test_set has  1805 keys\n",
      "movie_100k_training_set has  943  keys\n"
     ]
    }
   ],
   "source": [
    "print \"movie_100k_test_set has \", len(movie_100k_test_set.keys()), \"keys\"\n",
    "print \"movie_100k_training_set has \", len(movie_100k_training_set.keys()), \" keys\""
   ]
  },
  {
   "cell_type": "code",
   "execution_count": null,
   "metadata": {
    "collapsed": true
   },
   "outputs": [],
   "source": []
  },
  {
   "cell_type": "code",
   "execution_count": 11,
   "metadata": {
    "collapsed": true
   },
   "outputs": [],
   "source": [
    "PIS_map = {}\n",
    "PPS_map = {}\n",
    "PORS_map = {}"
   ]
  },
  {
   "cell_type": "code",
   "execution_count": 12,
   "metadata": {
    "collapsed": true
   },
   "outputs": [],
   "source": [
    "def PIS(item_pair):\n",
    "    item1 = int(item_pair[0][1:])\n",
    "    item2 = int(item_pair[1][1:])\n",
    "    total = 0\n",
    "    for i in range(0,item_rating_map[item2][0]-1):\n",
    "        total += np.exp(betaln(item_rating_map[item1][0]+i,item_rating_map[item1][1]+item_rating_map[item2][1]) -\\\n",
    "                        np.log(item_rating_map[item2][1]+i) - \\\n",
    "                        betaln(1+i, item_rating_map[item2][1]) -\\\n",
    "                        betaln(item_rating_map[item1][0],item_rating_map[item1][1])\n",
    "                       )\n",
    "    return total"
   ]
  },
  {
   "cell_type": "code",
   "execution_count": 13,
   "metadata": {
    "collapsed": true
   },
   "outputs": [],
   "source": [
    "def PPS(item_pair):\n",
    "    item1 = int(item_pair[0][1:])\n",
    "    item2 = int(item_pair[1][1:])\n",
    "    p1 = (item_rating_map[item1][0]) * 1.0 / (item_rating_map[item1][0] + item_rating_map[item1][1])\n",
    "    p2 = (item_rating_map[item2][0]) * 1.0 / (item_rating_map[item2][0] + item_rating_map[item2][1])\n",
    "    return p1 * p2"
   ]
  },
  {
   "cell_type": "code",
   "execution_count": 14,
   "metadata": {
    "collapsed": true
   },
   "outputs": [],
   "source": [
    "def PORS(item_pair):\n",
    "    item1 = int(item_pair[0][1:])\n",
    "    item2 = int(item_pair[1][1:])\n",
    "    o1 = (item_rating_map[item1][0]) * 1.0 / (item_rating_map[item1][1])\n",
    "    o2 = (item_rating_map[item2][0]) * 1.0 / (item_rating_map[item2][1])\n",
    "    return o2 / o1"
   ]
  },
  {
   "cell_type": "code",
   "execution_count": 15,
   "metadata": {
    "collapsed": true
   },
   "outputs": [],
   "source": [
    "def rank(graph, target_user):\n",
    "    score_map_PPS = {}\n",
    "    score_map_PORS = {}\n",
    "    score_map_PIS = {}\n",
    "    for primary_item in graph[target_user]:\n",
    "        score_map_PPS[primary_item] = 0.0\n",
    "        score_map_PORS[primary_item] = 0.0\n",
    "        score_map_PIS[primary_item] = 0.0\n",
    "        for secondary_user in graph[primary_item]:\n",
    "            if secondary_user == target_user:\n",
    "                continue\n",
    "            for secondary_item in graph[secondary_user]:\n",
    "                if secondary_item in graph[target_user]:\n",
    "                    continue\n",
    "                if (primary_item, secondary_item) in PIS_map:\n",
    "                    score_map_PIS[primary_item] += PIS_map[(primary_item, secondary_item)]\n",
    "                else:\n",
    "                    PIS_map[(primary_item, secondary_item)] = PIS((primary_item, secondary_item))\n",
    "                    score_map_PIS[primary_item] += PIS_map[(primary_item, secondary_item)]\n",
    "                if (primary_item, secondary_item) in PPS_map:\n",
    "                    score_map_PPS[primary_item] += PPS_map[(primary_item, secondary_item)]\n",
    "                else:\n",
    "                    PPS_map[(primary_item, secondary_item)] = PPS((primary_item, secondary_item))\n",
    "                    score_map_PPS[primary_item] += PPS_map[(primary_item, secondary_item)]\n",
    "                if (primary_item, secondary_item) in PORS_map:\n",
    "                    score_map_PORS[primary_item] += PORS_map[(primary_item, secondary_item)]\n",
    "                else:\n",
    "                    PORS_map[(primary_item, secondary_item)] = PORS((primary_item, secondary_item))\n",
    "                    score_map_PORS[primary_item] += PORS_map[(primary_item, secondary_item)]\n",
    "    return score_map_PIS, score_map_PPS, score_map_PORS"
   ]
  },
  {
   "cell_type": "code",
   "execution_count": 16,
   "metadata": {
    "collapsed": true
   },
   "outputs": [],
   "source": [
    "ranking = rank(graph, 'u1')"
   ]
  },
  {
   "cell_type": "code",
   "execution_count": 17,
   "metadata": {
    "collapsed": true
   },
   "outputs": [],
   "source": [
    "ranking_PIS = ranking[0]\n",
    "ranking_PPS = ranking[1]\n",
    "ranking_PORS = ranking[2]"
   ]
  },
  {
   "cell_type": "code",
   "execution_count": 18,
   "metadata": {
    "collapsed": false
   },
   "outputs": [
    {
     "name": "stdout",
     "output_type": "stream",
     "text": [
      "[('i745', 206.4680107331514), ('i720', 2106.8424939979082), ('i1207', 3885.7999156029359), ('i527', 3887.8614210312967), ('i1545', 4612.421581657597)]\n",
      "[('i1545', 10568.064315519812), ('i1836', 17773.79575468348), ('i938', 19792.267945228297), ('i48', 23890.925660660796), ('i2340', 28800.92743752021)]\n",
      "[('i1545', 16468.67506574581), ('i745', 31586.12838257131), ('i720', 39623.37200612985), ('i1207', 83710.71764228817), ('i1836', 95238.31769131651)]\n"
     ]
    }
   ],
   "source": [
    "sorted_1 = sorted(ranking_PIS.items(), key=operator.itemgetter(1))\n",
    "sorted_2 = sorted(ranking_PPS.items(), key=operator.itemgetter(1))\n",
    "sorted_3 = sorted(ranking_PORS.items(), key=operator.itemgetter(1))\n",
    "\n",
    "print sorted_1[:5]\n",
    "print sorted_2[:5]\n",
    "print sorted_3[:5]"
   ]
  },
  {
   "cell_type": "code",
   "execution_count": 19,
   "metadata": {
    "collapsed": false
   },
   "outputs": [
    {
     "name": "stdout",
     "output_type": "stream",
     "text": [
      "{'i595': 87717.470884331851, 'i594': 89390.897256695491, 'i2687': 61884.944074727624, 'i3105': 92404.876355702916, 'i914': 25491.453800161973, 'i48': 108245.60713107722, 'i2355': 117093.59538529013, 'i919': 44720.311925311216, 'i1035': 78226.211239892524, 'i2762': 8192.5401107103753, 'i938': 50542.262611704675, 'i2028': 19826.964942116028, 'i661': 109242.23052503054, 'i1193': 8326.7635344314676, 'i1097': 161547.63750853803, 'i1270': 149694.89901657874, 'i1197': 24804.944604878856, 'i1721': 212917.49076007781, 'i150': 33339.406782028149, 'i720': 2106.8424939979082, 'i2294': 139326.6863857549, 'i608': 40541.11915146446, 'i3186': 86098.568771103673, 'i527': 3887.8614210312967, 'i1961': 69898.666898030628, 'i2398': 43528.094461544948, 'i745': 206.4680107331514, 'i2791': 95525.341970821741, 'i2797': 126976.39641321448, 'i1287': 38483.278731781298, 'i1': 53800.761370730514, 'i588': 126260.07467461516, 'i2692': 17754.375151528529, 'i2340': 80547.991885797717, 'i1962': 73868.765279109473, 'i783': 103259.64227584405, 'i1029': 101046.05669087167, 'i1028': 102194.04426619755, 'i1566': 101914.79883951443, 'i2804': 26225.853412489229, 'i1022': 73770.336945205228, 'i3408': 96351.902144650347, 'i1246': 45135.556950514467, 'i2321': 155506.89754007265, 'i2018': 94853.350638703487, 'i1207': 3885.7999156029359, 'i1545': 4612.421581657597, 'i1836': 38192.983287904441, 'i260': 11701.087349995285, 'i1907': 52278.90166080511, 'i3114': 23245.863712171886, 'i2918': 45242.753766806389, 'i531': 49455.646017854822}\n"
     ]
    }
   ],
   "source": [
    "print ranking_PIS"
   ]
  }
 ],
 "metadata": {
  "anaconda-cloud": {},
  "kernelspec": {
   "display_name": "Python [Root]",
   "language": "python",
   "name": "Python [Root]"
  },
  "language_info": {
   "codemirror_mode": {
    "name": "ipython",
    "version": 2
   },
   "file_extension": ".py",
   "mimetype": "text/x-python",
   "name": "python",
   "nbconvert_exporter": "python",
   "pygments_lexer": "ipython2",
   "version": "2.7.12"
  }
 },
 "nbformat": 4,
 "nbformat_minor": 2
}
