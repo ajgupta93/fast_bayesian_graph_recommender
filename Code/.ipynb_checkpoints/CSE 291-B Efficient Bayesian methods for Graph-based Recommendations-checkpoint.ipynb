{
 "cells": [
  {
   "cell_type": "code",
   "execution_count": 1,
   "metadata": {
    "collapsed": true
   },
   "outputs": [],
   "source": [
    "from scipy.stats import beta\n",
    "import operator\n",
    "import numpy as np\n",
    "from scipy.special import betaln"
   ]
  },
  {
   "cell_type": "code",
   "execution_count": 2,
   "metadata": {
    "collapsed": true
   },
   "outputs": [],
   "source": [
    "dataset = 0\n",
    "if dataset==0:\n",
    "    # MovieLens-1M dataset\n",
    "    ratings_file = '../data/ml-1m/ratings.dat'\n",
    "    delimiter = '::'\n",
    "elif dataset==1:\n",
    "    # MovieLens-100k dataset\n",
    "    ratings_file = '../data/ml-100k/u.data'\n",
    "    delimiter = '\\t'"
   ]
  },
  {
   "cell_type": "code",
   "execution_count": 3,
   "metadata": {
    "collapsed": true
   },
   "outputs": [],
   "source": [
    "def load_1_m():\n",
    "    ratings = open(ratings_file, 'r').read().split('\\n')\n",
    "    user_item_map = {}\n",
    "    for r in ratings:\n",
    "        attrs = r.split(delimiter)\n",
    "        if len(attrs) < 4:\n",
    "            continue\n",
    "        user = int(attrs[0])\n",
    "        item = int(attrs[1])\n",
    "        rating = int(attrs[2])\n",
    "        if user in user_item_map:\n",
    "            user_item_map[user][item] = rating\n",
    "        else:\n",
    "            user_item_map[user] = {}\n",
    "            user_item_map[user][item] = rating\n",
    "    for user in user_item_map:\n",
    "        sum = 0\n",
    "        for item in user_item_map[user]:\n",
    "            sum += user_item_map[user][item]\n",
    "        avg_rating_user = sum * 1.0 / len(user_item_map[user])\n",
    "        for item in user_item_map[user]:\n",
    "            if user_item_map[user][item] >= avg_rating_user:\n",
    "                user_item_map[user][item] = 1\n",
    "            else:\n",
    "                user_item_map[user][item] = 0\n",
    "    for user in user_item_map:\n",
    "        if len(user_item_map[user]) < 10:\n",
    "            del user_item_map[user]\n",
    "    return user_item_map"
   ]
  },
  {
   "cell_type": "code",
   "execution_count": 4,
   "metadata": {
    "collapsed": true
   },
   "outputs": [],
   "source": [
    "def form_graph(user_item_map):\n",
    "    graph = {}\n",
    "    for user in user_item_map:\n",
    "        if 'u' + str(user) not in graph:\n",
    "            graph['u' + str(user)] = set([])\n",
    "        for item in user_item_map[user]:\n",
    "            if 'i' + str(item) not in graph:\n",
    "                graph['i' + str(item)] = set([])\n",
    "            graph['u' + str(user)].add('i' + str(item))\n",
    "            graph['i' + str(item)].add('u' + str(user))\n",
    "    return graph"
   ]
  },
  {
   "cell_type": "code",
   "execution_count": 5,
   "metadata": {
    "collapsed": true
   },
   "outputs": [],
   "source": [
    "def clean_graph(graph):\n",
    "    while True:\n",
    "        changed = False\n",
    "        delete_nodes = []\n",
    "        for node in graph:\n",
    "            if len(graph[node]) < 10:\n",
    "                changed = True\n",
    "                delete_nodes.append(node)\n",
    "        for node in delete_nodes:\n",
    "            del graph[node]\n",
    "        for node1 in graph:\n",
    "            delete_nodes = []\n",
    "            for node2 in graph[node1]:\n",
    "                if node2 not in graph:\n",
    "                    changed = True\n",
    "                    delete_nodes.append(node2)\n",
    "            for node2 in delete_nodes:\n",
    "                graph[node1].remove(node2)\n",
    "        if not changed:\n",
    "            break\n",
    "    for node in graph:\n",
    "        graph[node] = list(graph[node])\n",
    "    return graph"
   ]
  },
  {
   "cell_type": "code",
   "execution_count": 6,
   "metadata": {
    "collapsed": true
   },
   "outputs": [],
   "source": [
    "def get_num_ratings(user_item_map):\n",
    "    item_rating_map = {}\n",
    "    for user in user_item_map:\n",
    "        for item in user_item_map[user]:\n",
    "            if item not in item_rating_map:\n",
    "                item_rating_map[item] = [1, 1]\n",
    "            if user_item_map[user][item] == 0:\n",
    "                item_rating_map[item][1] += 1\n",
    "            else:\n",
    "                item_rating_map[item][0] += 1\n",
    "    return item_rating_map"
   ]
  },
  {
   "cell_type": "code",
   "execution_count": 7,
   "metadata": {
    "collapsed": true
   },
   "outputs": [],
   "source": [
    "user_item_map = load_1_m()"
   ]
  },
  {
   "cell_type": "code",
   "execution_count": 8,
   "metadata": {
    "collapsed": true
   },
   "outputs": [],
   "source": [
    "item_rating_map = get_num_ratings(user_item_map)"
   ]
  },
  {
   "cell_type": "code",
   "execution_count": 9,
   "metadata": {
    "collapsed": true
   },
   "outputs": [],
   "source": [
    "graph = form_graph(user_item_map)"
   ]
  },
  {
   "cell_type": "code",
   "execution_count": 10,
   "metadata": {
    "collapsed": true
   },
   "outputs": [],
   "source": [
    "graph = clean_graph(graph)"
   ]
  },
  {
   "cell_type": "code",
   "execution_count": 11,
   "metadata": {
    "collapsed": true
   },
   "outputs": [],
   "source": [
    "PIS_map = {}\n",
    "PPS_map = {}\n",
    "PORS_map = {}"
   ]
  },
  {
   "cell_type": "code",
   "execution_count": 12,
   "metadata": {
    "collapsed": true
   },
   "outputs": [],
   "source": [
    "def PIS(item_pair):\n",
    "    item1 = int(item_pair[0][1:])\n",
    "    item2 = int(item_pair[1][1:])\n",
    "    total = 0\n",
    "    for i in range(0,item_rating_map[item2][0]-1):\n",
    "        total += np.exp(betaln(item_rating_map[item1][0]+i,item_rating_map[item1][1]+item_rating_map[item2][1]) -\\\n",
    "                        np.log(item_rating_map[item2][1]+i) - \\\n",
    "                        betaln(1+i, item_rating_map[item2][1]) -\\\n",
    "                        betaln(item_rating_map[item1][0],item_rating_map[item1][1])\n",
    "                       )\n",
    "    return total"
   ]
  },
  {
   "cell_type": "code",
   "execution_count": 13,
   "metadata": {
    "collapsed": true
   },
   "outputs": [],
   "source": [
    "def PPS(item_pair):\n",
    "    item1 = int(item_pair[0][1:])\n",
    "    item2 = int(item_pair[1][1:])\n",
    "    p1 = (item_rating_map[item1][0]) * 1.0 / (item_rating_map[item1][0] + item_rating_map[item1][1])\n",
    "    p2 = (item_rating_map[item2][0]) * 1.0 / (item_rating_map[item2][0] + item_rating_map[item2][1])\n",
    "    return p1 * p2"
   ]
  },
  {
   "cell_type": "code",
   "execution_count": 14,
   "metadata": {
    "collapsed": true
   },
   "outputs": [],
   "source": [
    "def PORS(item_pair):\n",
    "    item1 = int(item_pair[0][1:])\n",
    "    item2 = int(item_pair[1][1:])\n",
    "    o1 = (item_rating_map[item1][0]) * 1.0 / (item_rating_map[item1][1])\n",
    "    o2 = (item_rating_map[item2][0]) * 1.0 / (item_rating_map[item2][1])\n",
    "    return o2 / o1"
   ]
  },
  {
   "cell_type": "code",
   "execution_count": 15,
   "metadata": {
    "collapsed": true
   },
   "outputs": [],
   "source": [
    "def rank(graph, target_user):\n",
    "    score_map_PPS = {}\n",
    "    score_map_PORS = {}\n",
    "    score_map_PIS = {}\n",
    "    for primary_item in graph[target_user]:\n",
    "        score_map_PPS[primary_item] = 0.0\n",
    "        score_map_PORS[primary_item] = 0.0\n",
    "        score_map_PIS[primary_item] = 0.0\n",
    "        for secondary_user in graph[primary_item]:\n",
    "            if secondary_user == target_user:\n",
    "                continue\n",
    "            for secondary_item in graph[secondary_user]:\n",
    "                if secondary_item in graph[target_user]:\n",
    "                    continue\n",
    "                if (primary_item, secondary_item) in PIS_map:\n",
    "                    score_map_PIS[primary_item] += PIS_map[(primary_item, secondary_item)]\n",
    "                else:\n",
    "                    PIS_map[(primary_item, secondary_item)] = PIS((primary_item, secondary_item))\n",
    "                    score_map_PIS[primary_item] += PIS_map[(primary_item, secondary_item)]\n",
    "                if (primary_item, secondary_item) in PPS_map:\n",
    "                    score_map_PPS[primary_item] += PPS_map[(primary_item, secondary_item)]\n",
    "                else:\n",
    "                    PPS_map[(primary_item, secondary_item)] = PPS((primary_item, secondary_item))\n",
    "                    score_map_PPS[primary_item] += PPS_map[(primary_item, secondary_item)]\n",
    "                if (primary_item, secondary_item) in PORS_map:\n",
    "                    score_map_PORS[primary_item] += PORS_map[(primary_item, secondary_item)]\n",
    "                else:\n",
    "                    PORS_map[(primary_item, secondary_item)] = PORS((primary_item, secondary_item))\n",
    "                    score_map_PORS[primary_item] += PORS_map[(primary_item, secondary_item)]\n",
    "    return score_map_PIS, score_map_PPS, score_map_PORS"
   ]
  },
  {
   "cell_type": "code",
   "execution_count": 16,
   "metadata": {},
   "outputs": [
    {
     "ename": "NameError",
     "evalue": "name 'i' is not defined",
     "output_type": "error",
     "traceback": [
      "\u001b[0;31m---------------------------------------------------------------------------\u001b[0m",
      "\u001b[0;31mNameError\u001b[0m                                 Traceback (most recent call last)",
      "\u001b[0;32m<ipython-input-16-e2ccacd19cfd>\u001b[0m in \u001b[0;36m<module>\u001b[0;34m()\u001b[0m\n\u001b[0;32m----> 1\u001b[0;31m \u001b[0mranking\u001b[0m \u001b[0;34m=\u001b[0m \u001b[0mrank\u001b[0m\u001b[0;34m(\u001b[0m\u001b[0mgraph\u001b[0m\u001b[0;34m,\u001b[0m \u001b[0;34m'u1'\u001b[0m\u001b[0;34m)\u001b[0m\u001b[0;34m\u001b[0m\u001b[0m\n\u001b[0m",
      "\u001b[0;32m<ipython-input-15-25ea11ade910>\u001b[0m in \u001b[0;36mrank\u001b[0;34m(graph, target_user)\u001b[0m\n\u001b[1;32m     16\u001b[0m                     \u001b[0mscore_map_PIS\u001b[0m\u001b[0;34m[\u001b[0m\u001b[0mprimary_item\u001b[0m\u001b[0;34m]\u001b[0m \u001b[0;34m+=\u001b[0m \u001b[0mPIS_map\u001b[0m\u001b[0;34m[\u001b[0m\u001b[0;34m(\u001b[0m\u001b[0mprimary_item\u001b[0m\u001b[0;34m,\u001b[0m \u001b[0msecondary_item\u001b[0m\u001b[0;34m)\u001b[0m\u001b[0;34m]\u001b[0m\u001b[0;34m\u001b[0m\u001b[0m\n\u001b[1;32m     17\u001b[0m                 \u001b[0;32melse\u001b[0m\u001b[0;34m:\u001b[0m\u001b[0;34m\u001b[0m\u001b[0m\n\u001b[0;32m---> 18\u001b[0;31m                     \u001b[0mPIS_map\u001b[0m\u001b[0;34m[\u001b[0m\u001b[0;34m(\u001b[0m\u001b[0mprimary_item\u001b[0m\u001b[0;34m,\u001b[0m \u001b[0msecondary_item\u001b[0m\u001b[0;34m)\u001b[0m\u001b[0;34m]\u001b[0m \u001b[0;34m=\u001b[0m \u001b[0mPIS\u001b[0m\u001b[0;34m(\u001b[0m\u001b[0;34m(\u001b[0m\u001b[0mprimary_item\u001b[0m\u001b[0;34m,\u001b[0m \u001b[0msecondary_item\u001b[0m\u001b[0;34m)\u001b[0m\u001b[0;34m)\u001b[0m\u001b[0;34m\u001b[0m\u001b[0m\n\u001b[0m\u001b[1;32m     19\u001b[0m                     \u001b[0mscore_map_PIS\u001b[0m\u001b[0;34m[\u001b[0m\u001b[0mprimary_item\u001b[0m\u001b[0;34m]\u001b[0m \u001b[0;34m+=\u001b[0m \u001b[0mPIS_map\u001b[0m\u001b[0;34m[\u001b[0m\u001b[0;34m(\u001b[0m\u001b[0mprimary_item\u001b[0m\u001b[0;34m,\u001b[0m \u001b[0msecondary_item\u001b[0m\u001b[0;34m)\u001b[0m\u001b[0;34m]\u001b[0m\u001b[0;34m\u001b[0m\u001b[0m\n\u001b[1;32m     20\u001b[0m                 \u001b[0;32mif\u001b[0m \u001b[0;34m(\u001b[0m\u001b[0mprimary_item\u001b[0m\u001b[0;34m,\u001b[0m \u001b[0msecondary_item\u001b[0m\u001b[0;34m)\u001b[0m \u001b[0;32min\u001b[0m \u001b[0mPPS_map\u001b[0m\u001b[0;34m:\u001b[0m\u001b[0;34m\u001b[0m\u001b[0m\n",
      "\u001b[0;32m<ipython-input-12-a3e671a70610>\u001b[0m in \u001b[0;36mPIS\u001b[0;34m(item_pair)\u001b[0m\n\u001b[1;32m      3\u001b[0m     \u001b[0mitem2\u001b[0m \u001b[0;34m=\u001b[0m \u001b[0mint\u001b[0m\u001b[0;34m(\u001b[0m\u001b[0mitem_pair\u001b[0m\u001b[0;34m[\u001b[0m\u001b[0;36m1\u001b[0m\u001b[0;34m]\u001b[0m\u001b[0;34m[\u001b[0m\u001b[0;36m1\u001b[0m\u001b[0;34m:\u001b[0m\u001b[0;34m]\u001b[0m\u001b[0;34m)\u001b[0m\u001b[0;34m\u001b[0m\u001b[0m\n\u001b[1;32m      4\u001b[0m     \u001b[0mtotal\u001b[0m \u001b[0;34m=\u001b[0m \u001b[0;36m0\u001b[0m\u001b[0;34m\u001b[0m\u001b[0m\n\u001b[0;32m----> 5\u001b[0;31m     total += np.exp(betaln(item_rating_map[item1][0]+i,item_rating_map[item1][1]+item_rating_map[item2][1]) -                        np.log(item_rating_map[item2][1]+i) -                         betaln(1+i, item_rating_map[item2][1]) -                        betaln(item_rating_map[item1][0],item_rating_map[item1][1])\n\u001b[0m\u001b[1;32m      6\u001b[0m                        )\n\u001b[1;32m      7\u001b[0m     \u001b[0;32mreturn\u001b[0m \u001b[0mtotal\u001b[0m\u001b[0;34m\u001b[0m\u001b[0m\n",
      "\u001b[0;31mNameError\u001b[0m: name 'i' is not defined"
     ]
    }
   ],
   "source": [
    "ranking = rank(graph, 'u1')"
   ]
  },
  {
   "cell_type": "code",
   "execution_count": null,
   "metadata": {
    "collapsed": true
   },
   "outputs": [],
   "source": [
    "ranking_PIS = ranking[0]\n",
    "ranking_PPS = ranking[1]\n",
    "ranking_PORS = ranking[2]"
   ]
  },
  {
   "cell_type": "code",
   "execution_count": null,
   "metadata": {},
   "outputs": [],
   "source": [
    "sorted_1 = sorted(ranking_PIS.items(), key=operator.itemgetter(1))\n",
    "sorted_2 = sorted(ranking_PPS.items(), key=operator.itemgetter(1))\n",
    "sorted_3 = sorted(ranking_PORS.items(), key=operator.itemgetter(1))\n",
    "\n",
    "print sorted_1[:5]\n",
    "print sorted_2[:5]\n",
    "print sorted_3[:5]"
   ]
  },
  {
   "cell_type": "code",
   "execution_count": null,
   "metadata": {},
   "outputs": [],
   "source": [
    "print ranking_PIS"
   ]
  }
 ],
 "metadata": {
  "kernelspec": {
   "display_name": "Python 3",
   "language": "python",
   "name": "python3"
  },
  "language_info": {
   "codemirror_mode": {
    "name": "ipython",
    "version": 3
   },
   "file_extension": ".py",
   "mimetype": "text/x-python",
   "name": "python",
   "nbconvert_exporter": "python",
   "pygments_lexer": "ipython3",
   "version": "3.6.1"
  }
 },
 "nbformat": 4,
 "nbformat_minor": 2
}
